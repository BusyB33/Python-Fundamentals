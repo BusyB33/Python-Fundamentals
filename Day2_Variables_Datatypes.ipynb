{
 "cells": [
  {
   "cell_type": "code",
   "execution_count": null,
   "id": "950ead76",
   "metadata": {},
   "outputs": [],
   "source": [
    "Python Day2 "
   ]
  },
  {
   "cell_type": "code",
   "execution_count": null,
   "id": "0b89f1a4",
   "metadata": {},
   "outputs": [],
   "source": [
    "Understanding Variables"
   ]
  },
  {
   "cell_type": "code",
   "execution_count": 12,
   "id": "2e78bc8a",
   "metadata": {},
   "outputs": [],
   "source": [
    "x=2"
   ]
  },
  {
   "cell_type": "code",
   "execution_count": 10,
   "id": "e1a648c5",
   "metadata": {},
   "outputs": [],
   "source": [
    "y=4"
   ]
  },
  {
   "cell_type": "code",
   "execution_count": 13,
   "id": "0a8d3e2e",
   "metadata": {},
   "outputs": [
    {
     "data": {
      "text/plain": [
       "6"
      ]
     },
     "execution_count": 13,
     "metadata": {},
     "output_type": "execute_result"
    }
   ],
   "source": [
    "x+y"
   ]
  },
  {
   "cell_type": "code",
   "execution_count": null,
   "id": "a0e23cdf",
   "metadata": {},
   "outputs": [],
   "source": []
  },
  {
   "cell_type": "code",
   "execution_count": null,
   "id": "c16a782b",
   "metadata": {},
   "outputs": [],
   "source": [
    "Rules for declaring variables"
   ]
  },
  {
   "cell_type": "code",
   "execution_count": 15,
   "id": "656f4e63",
   "metadata": {},
   "outputs": [],
   "source": [
    "firstname='Baji'"
   ]
  },
  {
   "cell_type": "code",
   "execution_count": 22,
   "id": "7840f697",
   "metadata": {},
   "outputs": [
    {
     "name": "stdout",
     "output_type": "stream",
     "text": [
      "Baji\n"
     ]
    }
   ],
   "source": [
    "print(firstname)"
   ]
  },
  {
   "cell_type": "code",
   "execution_count": null,
   "id": "56d3960c",
   "metadata": {},
   "outputs": [],
   "source": []
  },
  {
   "cell_type": "code",
   "execution_count": null,
   "id": "f6581960",
   "metadata": {},
   "outputs": [],
   "source": [
    "Commenting the code in python"
   ]
  },
  {
   "cell_type": "code",
   "execution_count": null,
   "id": "aa6019f3",
   "metadata": {},
   "outputs": [],
   "source": [
    "By using # symbol"
   ]
  },
  {
   "cell_type": "code",
   "execution_count": null,
   "id": "a23d4ac8",
   "metadata": {},
   "outputs": [],
   "source": [
    "#comment should be used after the code otherwise code will be considered as comment"
   ]
  },
  {
   "cell_type": "code",
   "execution_count": null,
   "id": "c6f0455b",
   "metadata": {},
   "outputs": [],
   "source": []
  },
  {
   "cell_type": "code",
   "execution_count": null,
   "id": "1991469f",
   "metadata": {},
   "outputs": [],
   "source": [
    "#classification of datatypes"
   ]
  },
  {
   "cell_type": "code",
   "execution_count": null,
   "id": "592657bd",
   "metadata": {},
   "outputs": [],
   "source": [
    "Mutable datatypes"
   ]
  },
  {
   "cell_type": "code",
   "execution_count": null,
   "id": "eb5ef864",
   "metadata": {},
   "outputs": [],
   "source": [
    "Immutable datatypes"
   ]
  },
  {
   "cell_type": "code",
   "execution_count": null,
   "id": "b9a3f9f0",
   "metadata": {},
   "outputs": [],
   "source": []
  },
  {
   "cell_type": "code",
   "execution_count": null,
   "id": "17c25e2d",
   "metadata": {},
   "outputs": [],
   "source": [
    "#String datatypes"
   ]
  },
  {
   "cell_type": "code",
   "execution_count": 28,
   "id": "acfee688",
   "metadata": {},
   "outputs": [],
   "source": [
    "name='Baji'"
   ]
  },
  {
   "cell_type": "code",
   "execution_count": 29,
   "id": "3782bac1",
   "metadata": {},
   "outputs": [
    {
     "name": "stdout",
     "output_type": "stream",
     "text": [
      "Baji\n"
     ]
    }
   ],
   "source": [
    "print(name)"
   ]
  },
  {
   "cell_type": "code",
   "execution_count": null,
   "id": "edac423b",
   "metadata": {},
   "outputs": [],
   "source": [
    "#Double Quote"
   ]
  },
  {
   "cell_type": "code",
   "execution_count": 26,
   "id": "7253b2fd",
   "metadata": {},
   "outputs": [],
   "source": [
    "name=\"Baji\""
   ]
  },
  {
   "cell_type": "code",
   "execution_count": 27,
   "id": "ab987201",
   "metadata": {},
   "outputs": [
    {
     "name": "stdout",
     "output_type": "stream",
     "text": [
      "Baji\n"
     ]
    }
   ],
   "source": [
    "print(name)"
   ]
  },
  {
   "cell_type": "code",
   "execution_count": null,
   "id": "525094df",
   "metadata": {},
   "outputs": [],
   "source": [
    "#Triple Quote"
   ]
  },
  {
   "cell_type": "code",
   "execution_count": 30,
   "id": "0a6189c8",
   "metadata": {},
   "outputs": [],
   "source": [
    "name=\"\"\"Baji\"\"\""
   ]
  },
  {
   "cell_type": "code",
   "execution_count": 31,
   "id": "c936818a",
   "metadata": {},
   "outputs": [
    {
     "name": "stdout",
     "output_type": "stream",
     "text": [
      "Baji\n"
     ]
    }
   ],
   "source": [
    "print(name)"
   ]
  },
  {
   "cell_type": "code",
   "execution_count": null,
   "id": "37bde85b",
   "metadata": {},
   "outputs": [],
   "source": []
  }
 ],
 "metadata": {
  "kernelspec": {
   "display_name": "Python 3 (ipykernel)",
   "language": "python",
   "name": "python3"
  },
  "language_info": {
   "codemirror_mode": {
    "name": "ipython",
    "version": 3
   },
   "file_extension": ".py",
   "mimetype": "text/x-python",
   "name": "python",
   "nbconvert_exporter": "python",
   "pygments_lexer": "ipython3",
   "version": "3.9.7"
  }
 },
 "nbformat": 4,
 "nbformat_minor": 5
}
